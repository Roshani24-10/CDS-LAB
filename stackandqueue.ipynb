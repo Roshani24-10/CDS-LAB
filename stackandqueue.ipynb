{
 "cells": [
  {
   "cell_type": "markdown",
   "metadata": {},
   "source": [
    "Stack"
   ]
  },
  {
   "cell_type": "code",
   "execution_count": 18,
   "metadata": {},
   "outputs": [
    {
     "data": {
      "text/plain": [
       "['a', 'b', 'c']"
      ]
     },
     "execution_count": 18,
     "metadata": {},
     "output_type": "execute_result"
    }
   ],
   "source": [
    "mystack=['a','b','c']\n",
    "mystack"
   ]
  },
  {
   "cell_type": "code",
   "execution_count": 19,
   "metadata": {},
   "outputs": [
    {
     "data": {
      "text/plain": [
       "'c'"
      ]
     },
     "execution_count": 19,
     "metadata": {},
     "output_type": "execute_result"
    }
   ],
   "source": [
    "mystack.pop()"
   ]
  },
  {
   "cell_type": "code",
   "execution_count": 20,
   "metadata": {},
   "outputs": [
    {
     "data": {
      "text/plain": [
       "'b'"
      ]
     },
     "execution_count": 20,
     "metadata": {},
     "output_type": "execute_result"
    }
   ],
   "source": [
    "mystack.pop()"
   ]
  },
  {
   "cell_type": "code",
   "execution_count": 21,
   "metadata": {},
   "outputs": [
    {
     "data": {
      "text/plain": [
       "'a'"
      ]
     },
     "execution_count": 21,
     "metadata": {},
     "output_type": "execute_result"
    }
   ],
   "source": [
    "mystack.pop()"
   ]
  },
  {
   "cell_type": "code",
   "execution_count": 22,
   "metadata": {},
   "outputs": [
    {
     "data": {
      "text/plain": [
       "[]"
      ]
     },
     "execution_count": 22,
     "metadata": {},
     "output_type": "execute_result"
    }
   ],
   "source": [
    "mystack"
   ]
  },
  {
   "cell_type": "code",
   "execution_count": 23,
   "metadata": {},
   "outputs": [],
   "source": [
    "mystack.append('r')\n",
    "mystack.append('o')\n",
    "mystack.append('s')\n",
    "mystack.append('e')"
   ]
  },
  {
   "cell_type": "code",
   "execution_count": 24,
   "metadata": {},
   "outputs": [
    {
     "data": {
      "text/plain": [
       "['r', 'o', 's', 'e']"
      ]
     },
     "execution_count": 24,
     "metadata": {},
     "output_type": "execute_result"
    }
   ],
   "source": [
    "mystack"
   ]
  },
  {
   "cell_type": "code",
   "execution_count": 25,
   "metadata": {},
   "outputs": [
    {
     "data": {
      "text/plain": [
       "4"
      ]
     },
     "execution_count": 25,
     "metadata": {},
     "output_type": "execute_result"
    }
   ],
   "source": [
    "len(mystack)"
   ]
  },
  {
   "cell_type": "code",
   "execution_count": 26,
   "metadata": {},
   "outputs": [
    {
     "name": "stdout",
     "output_type": "stream",
     "text": [
      "Original string: hello\n",
      "Reversed string:  olleh\n"
     ]
    }
   ],
   "source": [
    "#program to reverse a string using stack\n",
    "original_string=\"hello\"\n",
    "stack=[]                      # Creating an empty stack\n",
    "for char in original_string:    # Pushing each character of the string onto the stack\n",
    "    stack.append(char)\n",
    "reversed_string =\" \"            #Pop elements from the stack to reverse the string\n",
    "while stack:\n",
    "    reversed_string+=stack.pop()\n",
    "\n",
    "print(\"Original string:\",original_string)  \n",
    "print(\"Reversed string:\",reversed_string)"
   ]
  },
  {
   "cell_type": "markdown",
   "metadata": {},
   "source": [
    "queue"
   ]
  },
  {
   "cell_type": "code",
   "execution_count": 47,
   "metadata": {},
   "outputs": [],
   "source": [
    "# Creating an empty queue\n",
    "queue=[]\n",
    "\n"
   ]
  },
  {
   "cell_type": "code",
   "execution_count": 48,
   "metadata": {},
   "outputs": [
    {
     "name": "stdout",
     "output_type": "stream",
     "text": [
      "Queue after inserting values: [1, 2, 3]\n"
     ]
    }
   ],
   "source": [
    "queue.append(1)                #inserting elements  to the queue\n",
    "queue.append(2)\n",
    "queue.append(3)\n",
    "print(\"Queue after inserting values:\", queue)"
   ]
  },
  {
   "cell_type": "code",
   "execution_count": 49,
   "metadata": {},
   "outputs": [
    {
     "name": "stdout",
     "output_type": "stream",
     "text": [
      "Queue after dequeuing two elements: [3]\n"
     ]
    }
   ],
   "source": [
    "#Dequeuing elements from the queue\n",
    "first_element = queue.pop(0)  \n",
    "second_element = queue.pop(0)\n",
    "print(\"Queue after dequeuing two elements:\", queue)"
   ]
  },
  {
   "cell_type": "code",
   "execution_count": 50,
   "metadata": {},
   "outputs": [
    {
     "name": "stdout",
     "output_type": "stream",
     "text": [
      "First dequeued element: 1\n",
      "Second dequeued element: 2\n"
     ]
    }
   ],
   "source": [
    "print(\"First dequeued element:\", first_element)  \n",
    "print(\"Second dequeued element:\", second_element) "
   ]
  },
  {
   "cell_type": "code",
   "execution_count": 51,
   "metadata": {},
   "outputs": [],
   "source": [
    "import queue\n",
    "from collections import deque"
   ]
  },
  {
   "cell_type": "code",
   "execution_count": 76,
   "metadata": {},
   "outputs": [],
   "source": [
    "import queue\n",
    "q1 = queue.Queue(8) \n",
    "q1.put(12)\n",
    "q1.put(7)\n",
    "q1.put(3)\n",
    "q1.put(4)\n",
    "q1.put(5)\n",
    "q1.put(9)\n",
    "q1.put(20)\n",
    "q1.put(2)"
   ]
  },
  {
   "cell_type": "code",
   "execution_count": 77,
   "metadata": {},
   "outputs": [],
   "source": [
    "item1 = q1.get()"
   ]
  },
  {
   "cell_type": "code",
   "execution_count": 78,
   "metadata": {},
   "outputs": [
    {
     "data": {
      "text/plain": [
       "12"
      ]
     },
     "execution_count": 78,
     "metadata": {},
     "output_type": "execute_result"
    }
   ],
   "source": [
    "item1"
   ]
  },
  {
   "cell_type": "code",
   "execution_count": 80,
   "metadata": {},
   "outputs": [],
   "source": [
    "n=q1.qsize()\n",
    "for i in range(n):\n",
    "    x=q1.get()                                #the element is removed\n",
    "    for j in range(n-1):\n",
    "        y=q1.get()                            #the element is removed\n",
    "        if x>y:  \n",
    "            q1.put(y)                         #the smaller one is put at the start of the queue\n",
    "        else:\n",
    "            q1.put(x)                         #the smaller one is put at the start of the queue\n",
    "            x=y                               #the greater one is replaced with x and compared again with next element\n",
    "    q1.put(x)\n",
    "while (q1.empty()==False): \n",
    "    print(q1.queue[0],end=\" \")  \n",
    "    q1.get()\n"
   ]
  },
  {
   "cell_type": "code",
   "execution_count": null,
   "metadata": {},
   "outputs": [],
   "source": []
  }
 ],
 "metadata": {
  "kernelspec": {
   "display_name": "Python 3",
   "language": "python",
   "name": "python3"
  },
  "language_info": {
   "codemirror_mode": {
    "name": "ipython",
    "version": 3
   },
   "file_extension": ".py",
   "mimetype": "text/x-python",
   "name": "python",
   "nbconvert_exporter": "python",
   "pygments_lexer": "ipython3",
   "version": "3.12.0"
  }
 },
 "nbformat": 4,
 "nbformat_minor": 2
}
