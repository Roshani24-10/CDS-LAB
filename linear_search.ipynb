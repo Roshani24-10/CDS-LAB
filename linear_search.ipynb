{
 "cells": [
  {
   "cell_type": "markdown",
   "metadata": {},
   "source": [
    "Linear Search Alogorithm"
   ]
  },
  {
   "cell_type": "code",
   "execution_count": 6,
   "metadata": {},
   "outputs": [
    {
     "name": "stdout",
     "output_type": "stream",
     "text": [
      "Element found at index position: 2\n"
     ]
    }
   ],
   "source": [
    "'''\n",
    " program to perform linear search\n",
    " Roshani Miranda 242BDA10\n",
    " 08-09-2024\n",
    "'''\n",
    "#program to perform linear search\n",
    "array=[2, 4, 0, 1, 9]\n",
    "search_element=int(input(\"Enter the searching element:\"))\n",
    "n=len(array)\n",
    "#Loop to find the position of element in the array\n",
    "for i in range(0,n): \n",
    "    if (array[i]==search_element):\n",
    "        print(\"Element found at index position:\",i)\n",
    "\n"
   ]
  },
  {
   "cell_type": "code",
   "execution_count": 7,
   "metadata": {},
   "outputs": [
    {
     "name": "stdout",
     "output_type": "stream",
     "text": [
      "Element not found\n"
     ]
    }
   ],
   "source": [
    "'''\n",
    " program to perform linear search with element not present in array\n",
    " Roshani Miranda 242BDA10\n",
    " 08-09-2024\n",
    "'''\n",
    "#edge case\n",
    "#array with repeated value\n",
    "array=[2,4,0,1,9,10]\n",
    "search_element=int(input(\"Enter the searching element:\"))\n",
    "n=len(array)\n",
    "result=-1\n",
    "#Loop to find the position of element in the array\n",
    "for i in range(0,n): \n",
    "    if (array[i]==search_element):\n",
    "        result=i\n",
    "        break #break statement is used only if the if statement is true\n",
    "\n",
    "\n",
    "if(result==-1):\n",
    "    print(\"Element not found\")\n",
    "else:\n",
    "    print(\"Element found at index:\",result)"
   ]
  },
  {
   "cell_type": "code",
   "execution_count": null,
   "metadata": {},
   "outputs": [],
   "source": []
  }
 ],
 "metadata": {
  "kernelspec": {
   "display_name": "Python 3",
   "language": "python",
   "name": "python3"
  },
  "language_info": {
   "codemirror_mode": {
    "name": "ipython",
    "version": 3
   },
   "file_extension": ".py",
   "mimetype": "text/x-python",
   "name": "python",
   "nbconvert_exporter": "python",
   "pygments_lexer": "ipython3",
   "version": "3.12.0"
  }
 },
 "nbformat": 4,
 "nbformat_minor": 2
}
